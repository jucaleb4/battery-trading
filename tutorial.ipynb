{
 "cells": [
  {
   "cell_type": "code",
   "execution_count": null,
   "id": "9f8326ad-6707-4b15-af0b-88a40e33c80d",
   "metadata": {},
   "outputs": [],
   "source": [
    "import gymnasium as gym\n",
    "import gym_examples\"\n",
    "\n",
    "import numpy as np\n",
    "import matplotlib.pyplot as plt"
   ]
  },
  {
   "cell_type": "markdown",
   "id": "4fa47e19-7648-4970-bb5e-16c5b523a540",
   "metadata": {},
   "source": [
    "## Goal\n",
    "The goal of this notebook is to get familiar with the environment. A couple things to note:\n",
    "\n",
    "- There are 8640 data points in either the `real` or `periodic` dataset. This corresponds to 90 days worth of 15min intervals of LMPs and other data\n",
    "- You can set the time limit length upon calling. Here, we set it to 2000 to allow for more time."
   ]
  },
  {
   "cell_type": "code",
   "execution_count": null,
   "id": "b22e1155-ba21-468e-a130-b61c0393510a",
   "metadata": {},
   "outputs": [],
   "source": [
    "nhistory = 10     # number of history points\n",
    "data = \"real\" # get periodic (sinusoidal) data - algo \"real\"\n",
    "env_mode = \"delay\" # standard setting but delay cost of buying\n",
    "start_index = 0\n",
    "end_index = -1 # 24 * 4\n",
    "env = gym.make(\n",
    "    \"gym_examples/BatteryEnv-v0\", \n",
    "    nhistory=nhistory, \n",
    "    data=data, \n",
    "    mode=env_mode, \n",
    "    start_index = start_index,\n",
    "    end_index = end_index,\n",
    "    max_episode_steps=2000, # can change length here!\n",
    ")"
   ]
  },
  {
   "cell_type": "markdown",
   "id": "f67c4a58-aaad-43c1-855e-191d416061f0",
   "metadata": {},
   "source": [
    "Let's take a look at the state\n",
    "- first index: SOC\n",
    "- historical prices (length `nhistory`, working backwards in chronological order starting with the price right now)\n",
    "- current \"cost\" of electricity (oldest unsold charge)"
   ]
  },
  {
   "cell_type": "code",
   "execution_count": null,
   "id": "417b944a-b387-46d0-973a-f35f3b4512ac",
   "metadata": {},
   "outputs": [],
   "source": [
    "print(env.observation_space)"
   ]
  },
  {
   "cell_type": "markdown",
   "id": "a0b90e26-61ce-4092-8591-25360f97c00a",
   "metadata": {},
   "source": [
    "Let's now look at action space.\n",
    "- action=0 : sell\n",
    "- action=1 : do nothing\n",
    "- action=2 : buy"
   ]
  },
  {
   "cell_type": "code",
   "execution_count": null,
   "id": "f081f6f2-b0c6-495a-a353-af674a9010b0",
   "metadata": {},
   "outputs": [],
   "source": [
    "print(env.action_space)"
   ]
  },
  {
   "cell_type": "markdown",
   "id": "05adfc8e-86ff-4a9e-817e-8858f238327e",
   "metadata": {},
   "source": [
    "Let's test out buying, doing nothing, and then selling.\n",
    "\n",
    "We'll also test out with some \"invalid\" actions, e.g., selling while empty or buying while full."
   ]
  },
  {
   "cell_type": "code",
   "execution_count": null,
   "id": "6d979003-e50c-44b8-b450-be2e2f491135",
   "metadata": {},
   "outputs": [],
   "source": [
    "s_0, _ = env.reset()\n",
    "print(f\"Starting state: {s_0}\\n\")\n",
    "s_1, _, _, _, _ = env.step(2)\n",
    "print(f\"State after buying: {s_1}\\n\")\n",
    "s_2, _, _, _, _ = env.step(1)\n",
    "print(f\"State after doing nothing: {s_2}\\n\")\n",
    "s_3, _, _, _, _ = env.step(0)\n",
    "print(f\"State after selling: {s_3}\\n\")\n",
    "s_4, _, _, _, _ = env.step(0)\n",
    "print(f\"State after selling with nothing: {s_4}\\n\")\n",
    "\n",
    "print(\"buying a lot to fill up battery...\")\n",
    "for i in range(8):\n",
    "    s_5, _, _, _, _ = env.step(2)\n",
    "print(f\"State with battery full: {s_5}\\n\")\n",
    "\n",
    "s_6, _, _, _, _ = env.step(2)\n",
    "print(f\"State after buying with full battery : {s_6}\\n\")"
   ]
  },
  {
   "cell_type": "markdown",
   "id": "0644cbe0-e907-444f-ab35-6f1cb385b2c3",
   "metadata": {},
   "source": [
    "Let's visualize the data!"
   ]
  },
  {
   "cell_type": "code",
   "execution_count": null,
   "id": "e0cae005-5831-4d31-9529-b6b1f747ba6a",
   "metadata": {},
   "outputs": [],
   "source": [
    "num_days = 14\n",
    "num_steps = num_days * 4 * 24\n",
    "\n",
    "lmp_prices = np.zeros(num_steps)\n",
    "s_0, _ = env.reset()\n",
    "lmp_prices[0] = s_0[1]\n",
    "\n",
    "has_truncated = False\n",
    "for t in range(1,num_steps):\n",
    "    s, _, term, trun, _ = env.step(1)\n",
    "    if trun and not has_truncated:\n",
    "        print(f\"Truncated starting at time {t}\")\n",
    "        has_truncated = True\n",
    "    lmp_prices[t] = s[1]\n",
    "\n",
    "ax = plt.subplot()\n",
    "ax.plot(np.arange(len(lmp_prices)), lmp_prices)\n",
    "ax.set(\n",
    "    title=f\"{data} LMP prices over {num_days} days\", \n",
    "    ylabel=\"Prices ($/MWh)\", \n",
    "    xlabel=\"RT time steps\"\n",
    ")"
   ]
  },
  {
   "cell_type": "markdown",
   "id": "da7b0d8d-b291-4dec-9a4b-a809d37b5d73",
   "metadata": {},
   "source": [
    "### Modifying time limit\n",
    "\n",
    "If you want to change the time limit after initializing, here is one way to do it."
   ]
  },
  {
   "cell_type": "code",
   "execution_count": null,
   "id": "7cf42a09-a5fd-4bba-9e9f-7405060dc024",
   "metadata": {},
   "outputs": [],
   "source": [
    "type(env)"
   ]
  },
  {
   "cell_type": "code",
   "execution_count": null,
   "id": "85ee9188-852e-419f-b891-fef0062b94fa",
   "metadata": {},
   "outputs": [],
   "source": [
    "env.__dict__"
   ]
  },
  {
   "cell_type": "code",
   "execution_count": null,
   "id": "51bbeba1-3416-41e9-b128-e5d9c7a18106",
   "metadata": {},
   "outputs": [],
   "source": [
    "env._max_episode_steps = 2001"
   ]
  },
  {
   "cell_type": "code",
   "execution_count": null,
   "id": "3acdf07c-ded1-4e24-aca3-25743556ed00",
   "metadata": {},
   "outputs": [],
   "source": [
    "env.__dict__"
   ]
  }
 ],
 "metadata": {
  "kernelspec": {
   "display_name": "Python 3 (ipykernel)",
   "language": "python",
   "name": "python3"
  },
  "language_info": {
   "codemirror_mode": {
    "name": "ipython",
    "version": 3
   },
   "file_extension": ".py",
   "mimetype": "text/x-python",
   "name": "python",
   "nbconvert_exporter": "python",
   "pygments_lexer": "ipython3",
   "version": "3.9.5"
  }
 },
 "nbformat": 4,
 "nbformat_minor": 5
}
